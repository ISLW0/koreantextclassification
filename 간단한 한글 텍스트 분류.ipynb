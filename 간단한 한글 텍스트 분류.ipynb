{
 "cells": [
  {
   "cell_type": "code",
   "execution_count": 15,
   "id": "44049f29",
   "metadata": {},
   "outputs": [],
   "source": [
    "import pandas as pd\n",
    "import urllib"
   ]
  },
  {
   "cell_type": "code",
   "execution_count": 16,
   "id": "fcc3f602",
   "metadata": {},
   "outputs": [
    {
     "data": {
      "text/plain": [
       "('ratings_test.txt', <http.client.HTTPMessage at 0x7f6f27e7d4c0>)"
      ]
     },
     "execution_count": 16,
     "metadata": {},
     "output_type": "execute_result"
    }
   ],
   "source": [
    "urllib.request.urlretrieve(\"https://raw.githubusercontent.com/e9t/nsmc/master/ratings_train.txt\", filename=\"ratings_train.txt\")\n",
    "urllib.request.urlretrieve(\"https://raw.githubusercontent.com/e9t/nsmc/master/ratings_test.txt\", filename=\"ratings_test.txt\")"
   ]
  },
  {
   "cell_type": "code",
   "execution_count": 17,
   "id": "e5b02cb8",
   "metadata": {},
   "outputs": [],
   "source": [
    "train_data = pd.read_table('ratings_train.txt')\n",
    "test_data = pd.read_table('ratings_test.txt')"
   ]
  },
  {
   "cell_type": "code",
   "execution_count": 18,
   "id": "e7470492",
   "metadata": {},
   "outputs": [],
   "source": [
    "#null 값 삭제"
   ]
  },
  {
   "cell_type": "code",
   "execution_count": 19,
   "id": "1d4f5601",
   "metadata": {},
   "outputs": [],
   "source": [
    "train_data = train_data[~train_data['document'].isnull()]"
   ]
  },
  {
   "cell_type": "code",
   "execution_count": 20,
   "id": "c6317f5e",
   "metadata": {},
   "outputs": [
    {
     "data": {
      "text/html": [
       "<div>\n",
       "<style scoped>\n",
       "    .dataframe tbody tr th:only-of-type {\n",
       "        vertical-align: middle;\n",
       "    }\n",
       "\n",
       "    .dataframe tbody tr th {\n",
       "        vertical-align: top;\n",
       "    }\n",
       "\n",
       "    .dataframe thead th {\n",
       "        text-align: right;\n",
       "    }\n",
       "</style>\n",
       "<table border=\"1\" class=\"dataframe\">\n",
       "  <thead>\n",
       "    <tr style=\"text-align: right;\">\n",
       "      <th></th>\n",
       "      <th>id</th>\n",
       "      <th>document</th>\n",
       "      <th>label</th>\n",
       "    </tr>\n",
       "  </thead>\n",
       "  <tbody>\n",
       "    <tr>\n",
       "      <th>0</th>\n",
       "      <td>9976970</td>\n",
       "      <td>아 더빙.. 진짜 짜증나네요 목소리</td>\n",
       "      <td>0</td>\n",
       "    </tr>\n",
       "    <tr>\n",
       "      <th>1</th>\n",
       "      <td>3819312</td>\n",
       "      <td>흠...포스터보고 초딩영화줄....오버연기조차 가볍지 않구나</td>\n",
       "      <td>1</td>\n",
       "    </tr>\n",
       "    <tr>\n",
       "      <th>2</th>\n",
       "      <td>10265843</td>\n",
       "      <td>너무재밓었다그래서보는것을추천한다</td>\n",
       "      <td>0</td>\n",
       "    </tr>\n",
       "    <tr>\n",
       "      <th>3</th>\n",
       "      <td>9045019</td>\n",
       "      <td>교도소 이야기구먼 ..솔직히 재미는 없다..평점 조정</td>\n",
       "      <td>0</td>\n",
       "    </tr>\n",
       "    <tr>\n",
       "      <th>4</th>\n",
       "      <td>6483659</td>\n",
       "      <td>사이몬페그의 익살스런 연기가 돋보였던 영화!스파이더맨에서 늙어보이기만 했던 커스틴 ...</td>\n",
       "      <td>1</td>\n",
       "    </tr>\n",
       "    <tr>\n",
       "      <th>...</th>\n",
       "      <td>...</td>\n",
       "      <td>...</td>\n",
       "      <td>...</td>\n",
       "    </tr>\n",
       "    <tr>\n",
       "      <th>149995</th>\n",
       "      <td>6222902</td>\n",
       "      <td>인간이 문제지.. 소는 뭔죄인가..</td>\n",
       "      <td>0</td>\n",
       "    </tr>\n",
       "    <tr>\n",
       "      <th>149996</th>\n",
       "      <td>8549745</td>\n",
       "      <td>평점이 너무 낮아서...</td>\n",
       "      <td>1</td>\n",
       "    </tr>\n",
       "    <tr>\n",
       "      <th>149997</th>\n",
       "      <td>9311800</td>\n",
       "      <td>이게 뭐요? 한국인은 거들먹거리고 필리핀 혼혈은 착하다?</td>\n",
       "      <td>0</td>\n",
       "    </tr>\n",
       "    <tr>\n",
       "      <th>149998</th>\n",
       "      <td>2376369</td>\n",
       "      <td>청춘 영화의 최고봉.방황과 우울했던 날들의 자화상</td>\n",
       "      <td>1</td>\n",
       "    </tr>\n",
       "    <tr>\n",
       "      <th>149999</th>\n",
       "      <td>9619869</td>\n",
       "      <td>한국 영화 최초로 수간하는 내용이 담긴 영화</td>\n",
       "      <td>0</td>\n",
       "    </tr>\n",
       "  </tbody>\n",
       "</table>\n",
       "<p>149995 rows × 3 columns</p>\n",
       "</div>"
      ],
      "text/plain": [
       "              id                                           document  label\n",
       "0        9976970                                아 더빙.. 진짜 짜증나네요 목소리      0\n",
       "1        3819312                  흠...포스터보고 초딩영화줄....오버연기조차 가볍지 않구나      1\n",
       "2       10265843                                  너무재밓었다그래서보는것을추천한다      0\n",
       "3        9045019                      교도소 이야기구먼 ..솔직히 재미는 없다..평점 조정      0\n",
       "4        6483659  사이몬페그의 익살스런 연기가 돋보였던 영화!스파이더맨에서 늙어보이기만 했던 커스틴 ...      1\n",
       "...          ...                                                ...    ...\n",
       "149995   6222902                                인간이 문제지.. 소는 뭔죄인가..      0\n",
       "149996   8549745                                      평점이 너무 낮아서...      1\n",
       "149997   9311800                    이게 뭐요? 한국인은 거들먹거리고 필리핀 혼혈은 착하다?      0\n",
       "149998   2376369                        청춘 영화의 최고봉.방황과 우울했던 날들의 자화상      1\n",
       "149999   9619869                           한국 영화 최초로 수간하는 내용이 담긴 영화      0\n",
       "\n",
       "[149995 rows x 3 columns]"
      ]
     },
     "execution_count": 20,
     "metadata": {},
     "output_type": "execute_result"
    }
   ],
   "source": [
    "train_data"
   ]
  },
  {
   "cell_type": "markdown",
   "id": "f7ee6ae8",
   "metadata": {},
   "source": [
    "# 형태소 분석\n",
    "## 빠른 속도 때문에 mecab 활용"
   ]
  },
  {
   "cell_type": "code",
   "execution_count": 21,
   "id": "3c0d2031",
   "metadata": {},
   "outputs": [],
   "source": [
    "from tqdm import tqdm, tqdm_pandas"
   ]
  },
  {
   "cell_type": "code",
   "execution_count": 22,
   "id": "7b4a63f3",
   "metadata": {},
   "outputs": [
    {
     "name": "stderr",
     "output_type": "stream",
     "text": [
      "0it [00:00, ?it/s]\n",
      "TqdmDeprecationWarning: Please use `tqdm.pandas(...)` instead of `tqdm_pandas(tqdm(...))`.\n"
     ]
    }
   ],
   "source": [
    "tqdm_pandas(tqdm())"
   ]
  },
  {
   "cell_type": "code",
   "execution_count": 23,
   "id": "fcc19067",
   "metadata": {},
   "outputs": [],
   "source": [
    "from konlpy.tag import Mecab"
   ]
  },
  {
   "cell_type": "code",
   "execution_count": 24,
   "id": "df3018ff",
   "metadata": {},
   "outputs": [],
   "source": [
    "text = train_data['document']"
   ]
  },
  {
   "cell_type": "code",
   "execution_count": 25,
   "id": "56a17ff6",
   "metadata": {},
   "outputs": [],
   "source": [
    "mecab = Mecab()"
   ]
  },
  {
   "cell_type": "code",
   "execution_count": 26,
   "id": "6e28f89f",
   "metadata": {
    "scrolled": true
   },
   "outputs": [
    {
     "name": "stderr",
     "output_type": "stream",
     "text": [
      "149995it [00:09, 16163.57it/s]\n"
     ]
    }
   ],
   "source": [
    "morphs = train_data['document'].progress_apply(lambda x : mecab.morphs(x))"
   ]
  },
  {
   "cell_type": "code",
   "execution_count": 27,
   "id": "acdaa896",
   "metadata": {},
   "outputs": [
    {
     "data": {
      "text/plain": [
       "0                       [아, 더, 빙, ., ., 진짜, 짜증, 나, 네요, 목소리]\n",
       "1         [흠, ., .., 포스터, 보고, 초딩, 영화, 줄, ., ..., 오버, 연기,...\n",
       "2                                   [너무, 재, 밓었다그래서보는것을추천한다]\n",
       "3         [교도소, 이야기, 구먼, ., ., 솔직히, 재미, 는, 없, 다, ., ., 평...\n",
       "4         [사이몬페그, 의, 익살, 스런, 연기, 가, 돋보였, 던, 영화, !, 스파이더맨...\n",
       "                                ...                        \n",
       "149995           [인간, 이, 문제, 지, ., ., 소, 는, 뭔, 죄, 인가, ., .]\n",
       "149996                            [평점, 이, 너무, 낮, 아서, ., ..]\n",
       "149997    [이게, 뭐요, ?, 한국인, 은, 거들먹거리, 고, 필리핀, 혼혈, 은, 착하, ...\n",
       "149998    [청춘, 영화, 의, 최고봉, ., 방황, 과, 우울, 했, 던, 날, 들, 의, ...\n",
       "149999             [한국, 영화, 최초, 로, 수간, 하, 는, 내용, 이, 담긴, 영화]\n",
       "Name: document, Length: 149995, dtype: object"
      ]
     },
     "execution_count": 27,
     "metadata": {},
     "output_type": "execute_result"
    }
   ],
   "source": [
    "morphs"
   ]
  },
  {
   "cell_type": "markdown",
   "id": "387d728e",
   "metadata": {},
   "source": [
    "# 불용어 삭제"
   ]
  },
  {
   "cell_type": "code",
   "execution_count": 29,
   "id": "3403ed4b",
   "metadata": {
    "scrolled": true
   },
   "outputs": [],
   "source": [
    "stopwords = pd.read_csv('./stopword.txt', sep='\\n', header=None)"
   ]
  },
  {
   "cell_type": "code",
   "execution_count": 30,
   "id": "49f28992",
   "metadata": {
    "scrolled": true
   },
   "outputs": [],
   "source": [
    "stopword = list(set(list(stopwords[0])))"
   ]
  },
  {
   "cell_type": "code",
   "execution_count": 31,
   "id": "f94e08cc",
   "metadata": {
    "scrolled": true
   },
   "outputs": [],
   "source": [
    "stopword.extend(['은','는','이','가'])"
   ]
  },
  {
   "cell_type": "code",
   "execution_count": 32,
   "id": "97af2da4",
   "metadata": {},
   "outputs": [
    {
     "name": "stderr",
     "output_type": "stream",
     "text": [
      "100%|██████████| 149995/149995 [00:13<00:00, 10968.61it/s]\n"
     ]
    }
   ],
   "source": [
    "stop_removed = morphs.progress_apply(lambda x : [ i for i in x if i not in stopword ])"
   ]
  },
  {
   "cell_type": "code",
   "execution_count": 33,
   "id": "3e46cf7a",
   "metadata": {},
   "outputs": [
    {
     "data": {
      "text/plain": [
       "0                             [더, 빙, ., ., 진짜, 짜증, 네요, 목소리]\n",
       "1         [흠, ., .., 포스터, 보고, 초딩, 영화, 줄, ., ..., 오버, 연기,...\n",
       "2                                   [너무, 재, 밓었다그래서보는것을추천한다]\n",
       "3         [교도소, 이야기, 구먼, ., ., 솔직히, 재미, 없, 다, ., ., 평점, 조정]\n",
       "4         [사이몬페그, 익살, 스런, 연기, 돋보였, 던, 영화, !, 스파이더맨, 늙, 보...\n",
       "                                ...                        \n",
       "149995                 [인간, 문제, 지, ., ., 소, 뭔, 죄, 인가, ., .]\n",
       "149996                               [평점, 너무, 낮, 아서, ., ..]\n",
       "149997        [이게, 뭐요, ?, 한국인, 거들먹거리, 고, 필리핀, 혼혈, 착하, 다, ?]\n",
       "149998               [청춘, 영화, 최고봉, ., 방황, 우울, 했, 던, 날, 자화상]\n",
       "149999                         [한국, 영화, 최초, 수간, 내용, 담긴, 영화]\n",
       "Name: document, Length: 149995, dtype: object"
      ]
     },
     "execution_count": 33,
     "metadata": {},
     "output_type": "execute_result"
    }
   ],
   "source": [
    "stop_removed"
   ]
  },
  {
   "cell_type": "markdown",
   "id": "e0ca092e",
   "metadata": {},
   "source": [
    "# 정규표현식으로 한글 제외하고 모두 삭제"
   ]
  },
  {
   "cell_type": "code",
   "execution_count": 34,
   "id": "9ba9d624",
   "metadata": {},
   "outputs": [],
   "source": [
    "import re"
   ]
  },
  {
   "cell_type": "code",
   "execution_count": 35,
   "id": "ad764c8d",
   "metadata": {
    "scrolled": true
   },
   "outputs": [
    {
     "name": "stderr",
     "output_type": "stream",
     "text": [
      "100%|██████████| 149995/149995 [00:01<00:00, 93735.94it/s] \n"
     ]
    }
   ],
   "source": [
    "kor_text = stop_removed.progress_apply(lambda x : [re.sub('[^가-힣ㄱ-ㅎㅏ-ㅣ]', '', i) for i in x])"
   ]
  },
  {
   "cell_type": "code",
   "execution_count": 36,
   "id": "0382135a",
   "metadata": {},
   "outputs": [
    {
     "data": {
      "text/plain": [
       "0                               [더, 빙, , , 진짜, 짜증, 네요, 목소리]\n",
       "1         [흠, , , 포스터, 보고, 초딩, 영화, 줄, , , 오버, 연기, 가볍, 지,...\n",
       "2                                   [너무, 재, 밓었다그래서보는것을추천한다]\n",
       "3             [교도소, 이야기, 구먼, , , 솔직히, 재미, 없, 다, , , 평점, 조정]\n",
       "4         [사이몬페그, 익살, 스런, 연기, 돋보였, 던, 영화, , 스파이더맨, 늙, 보이...\n",
       "                                ...                        \n",
       "149995                     [인간, 문제, 지, , , 소, 뭔, 죄, 인가, , ]\n",
       "149996                                  [평점, 너무, 낮, 아서, , ]\n",
       "149997          [이게, 뭐요, , 한국인, 거들먹거리, 고, 필리핀, 혼혈, 착하, 다, ]\n",
       "149998                [청춘, 영화, 최고봉, , 방황, 우울, 했, 던, 날, 자화상]\n",
       "149999                         [한국, 영화, 최초, 수간, 내용, 담긴, 영화]\n",
       "Name: document, Length: 149995, dtype: object"
      ]
     },
     "execution_count": 36,
     "metadata": {},
     "output_type": "execute_result"
    }
   ],
   "source": [
    "kor_text"
   ]
  },
  {
   "cell_type": "markdown",
   "id": "9b06aafc",
   "metadata": {},
   "source": [
    "# 빈 string ('') 이 많기 때문에 삭제"
   ]
  },
  {
   "cell_type": "code",
   "execution_count": 37,
   "id": "ab3e6812",
   "metadata": {},
   "outputs": [
    {
     "name": "stderr",
     "output_type": "stream",
     "text": [
      "100%|██████████| 149995/149995 [00:00<00:00, 346914.90it/s]\n"
     ]
    }
   ],
   "source": [
    "clean = kor_text.progress_apply(lambda x : [ i for i in x if i])"
   ]
  },
  {
   "cell_type": "code",
   "execution_count": 38,
   "id": "873cf8f3",
   "metadata": {},
   "outputs": [
    {
     "data": {
      "text/plain": [
       "0                                   [더, 빙, 진짜, 짜증, 네요, 목소리]\n",
       "1             [흠, 포스터, 보고, 초딩, 영화, 줄, 오버, 연기, 가볍, 지, 않, 구나]\n",
       "2                                   [너무, 재, 밓었다그래서보는것을추천한다]\n",
       "3                     [교도소, 이야기, 구먼, 솔직히, 재미, 없, 다, 평점, 조정]\n",
       "4         [사이몬페그, 익살, 스런, 연기, 돋보였, 던, 영화, 스파이더맨, 늙, 보이, ...\n",
       "                                ...                        \n",
       "149995                             [인간, 문제, 지, 소, 뭔, 죄, 인가]\n",
       "149996                                      [평점, 너무, 낮, 아서]\n",
       "149997              [이게, 뭐요, 한국인, 거들먹거리, 고, 필리핀, 혼혈, 착하, 다]\n",
       "149998                  [청춘, 영화, 최고봉, 방황, 우울, 했, 던, 날, 자화상]\n",
       "149999                         [한국, 영화, 최초, 수간, 내용, 담긴, 영화]\n",
       "Name: document, Length: 149995, dtype: object"
      ]
     },
     "execution_count": 38,
     "metadata": {},
     "output_type": "execute_result"
    }
   ],
   "source": [
    "clean"
   ]
  },
  {
   "cell_type": "code",
   "execution_count": null,
   "id": "e3a58218",
   "metadata": {},
   "outputs": [],
   "source": []
  },
  {
   "cell_type": "markdown",
   "id": "bc8f9045",
   "metadata": {},
   "source": [
    "# 데이터 split"
   ]
  },
  {
   "cell_type": "code",
   "execution_count": 39,
   "id": "72f2517f",
   "metadata": {},
   "outputs": [],
   "source": [
    "from sklearn.model_selection import train_test_split"
   ]
  },
  {
   "cell_type": "code",
   "execution_count": 40,
   "id": "e3ada810",
   "metadata": {},
   "outputs": [
    {
     "data": {
      "text/plain": [
       "0                                   [더, 빙, 진짜, 짜증, 네요, 목소리]\n",
       "1             [흠, 포스터, 보고, 초딩, 영화, 줄, 오버, 연기, 가볍, 지, 않, 구나]\n",
       "2                                   [너무, 재, 밓었다그래서보는것을추천한다]\n",
       "3                     [교도소, 이야기, 구먼, 솔직히, 재미, 없, 다, 평점, 조정]\n",
       "4         [사이몬페그, 익살, 스런, 연기, 돋보였, 던, 영화, 스파이더맨, 늙, 보이, ...\n",
       "                                ...                        \n",
       "149995                             [인간, 문제, 지, 소, 뭔, 죄, 인가]\n",
       "149996                                      [평점, 너무, 낮, 아서]\n",
       "149997              [이게, 뭐요, 한국인, 거들먹거리, 고, 필리핀, 혼혈, 착하, 다]\n",
       "149998                  [청춘, 영화, 최고봉, 방황, 우울, 했, 던, 날, 자화상]\n",
       "149999                         [한국, 영화, 최초, 수간, 내용, 담긴, 영화]\n",
       "Name: document, Length: 149995, dtype: object"
      ]
     },
     "execution_count": 40,
     "metadata": {},
     "output_type": "execute_result"
    }
   ],
   "source": [
    "clean"
   ]
  },
  {
   "cell_type": "code",
   "execution_count": 41,
   "id": "a2b25a15",
   "metadata": {},
   "outputs": [
    {
     "data": {
      "text/html": [
       "<div>\n",
       "<style scoped>\n",
       "    .dataframe tbody tr th:only-of-type {\n",
       "        vertical-align: middle;\n",
       "    }\n",
       "\n",
       "    .dataframe tbody tr th {\n",
       "        vertical-align: top;\n",
       "    }\n",
       "\n",
       "    .dataframe thead th {\n",
       "        text-align: right;\n",
       "    }\n",
       "</style>\n",
       "<table border=\"1\" class=\"dataframe\">\n",
       "  <thead>\n",
       "    <tr style=\"text-align: right;\">\n",
       "      <th></th>\n",
       "      <th>id</th>\n",
       "      <th>document</th>\n",
       "      <th>label</th>\n",
       "    </tr>\n",
       "  </thead>\n",
       "  <tbody>\n",
       "    <tr>\n",
       "      <th>0</th>\n",
       "      <td>9976970</td>\n",
       "      <td>아 더빙.. 진짜 짜증나네요 목소리</td>\n",
       "      <td>0</td>\n",
       "    </tr>\n",
       "    <tr>\n",
       "      <th>1</th>\n",
       "      <td>3819312</td>\n",
       "      <td>흠...포스터보고 초딩영화줄....오버연기조차 가볍지 않구나</td>\n",
       "      <td>1</td>\n",
       "    </tr>\n",
       "    <tr>\n",
       "      <th>2</th>\n",
       "      <td>10265843</td>\n",
       "      <td>너무재밓었다그래서보는것을추천한다</td>\n",
       "      <td>0</td>\n",
       "    </tr>\n",
       "    <tr>\n",
       "      <th>3</th>\n",
       "      <td>9045019</td>\n",
       "      <td>교도소 이야기구먼 ..솔직히 재미는 없다..평점 조정</td>\n",
       "      <td>0</td>\n",
       "    </tr>\n",
       "    <tr>\n",
       "      <th>4</th>\n",
       "      <td>6483659</td>\n",
       "      <td>사이몬페그의 익살스런 연기가 돋보였던 영화!스파이더맨에서 늙어보이기만 했던 커스틴 ...</td>\n",
       "      <td>1</td>\n",
       "    </tr>\n",
       "    <tr>\n",
       "      <th>...</th>\n",
       "      <td>...</td>\n",
       "      <td>...</td>\n",
       "      <td>...</td>\n",
       "    </tr>\n",
       "    <tr>\n",
       "      <th>149995</th>\n",
       "      <td>6222902</td>\n",
       "      <td>인간이 문제지.. 소는 뭔죄인가..</td>\n",
       "      <td>0</td>\n",
       "    </tr>\n",
       "    <tr>\n",
       "      <th>149996</th>\n",
       "      <td>8549745</td>\n",
       "      <td>평점이 너무 낮아서...</td>\n",
       "      <td>1</td>\n",
       "    </tr>\n",
       "    <tr>\n",
       "      <th>149997</th>\n",
       "      <td>9311800</td>\n",
       "      <td>이게 뭐요? 한국인은 거들먹거리고 필리핀 혼혈은 착하다?</td>\n",
       "      <td>0</td>\n",
       "    </tr>\n",
       "    <tr>\n",
       "      <th>149998</th>\n",
       "      <td>2376369</td>\n",
       "      <td>청춘 영화의 최고봉.방황과 우울했던 날들의 자화상</td>\n",
       "      <td>1</td>\n",
       "    </tr>\n",
       "    <tr>\n",
       "      <th>149999</th>\n",
       "      <td>9619869</td>\n",
       "      <td>한국 영화 최초로 수간하는 내용이 담긴 영화</td>\n",
       "      <td>0</td>\n",
       "    </tr>\n",
       "  </tbody>\n",
       "</table>\n",
       "<p>149995 rows × 3 columns</p>\n",
       "</div>"
      ],
      "text/plain": [
       "              id                                           document  label\n",
       "0        9976970                                아 더빙.. 진짜 짜증나네요 목소리      0\n",
       "1        3819312                  흠...포스터보고 초딩영화줄....오버연기조차 가볍지 않구나      1\n",
       "2       10265843                                  너무재밓었다그래서보는것을추천한다      0\n",
       "3        9045019                      교도소 이야기구먼 ..솔직히 재미는 없다..평점 조정      0\n",
       "4        6483659  사이몬페그의 익살스런 연기가 돋보였던 영화!스파이더맨에서 늙어보이기만 했던 커스틴 ...      1\n",
       "...          ...                                                ...    ...\n",
       "149995   6222902                                인간이 문제지.. 소는 뭔죄인가..      0\n",
       "149996   8549745                                      평점이 너무 낮아서...      1\n",
       "149997   9311800                    이게 뭐요? 한국인은 거들먹거리고 필리핀 혼혈은 착하다?      0\n",
       "149998   2376369                        청춘 영화의 최고봉.방황과 우울했던 날들의 자화상      1\n",
       "149999   9619869                           한국 영화 최초로 수간하는 내용이 담긴 영화      0\n",
       "\n",
       "[149995 rows x 3 columns]"
      ]
     },
     "execution_count": 41,
     "metadata": {},
     "output_type": "execute_result"
    }
   ],
   "source": [
    "train_data"
   ]
  },
  {
   "cell_type": "code",
   "execution_count": 42,
   "id": "178717d4",
   "metadata": {},
   "outputs": [],
   "source": [
    "x_train, x_test, y_train, y_test = train_test_split(clean, train_data['label'])"
   ]
  },
  {
   "cell_type": "markdown",
   "id": "c93cc19c",
   "metadata": {},
   "source": [
    "# 텍스트 벡터화"
   ]
  },
  {
   "cell_type": "code",
   "execution_count": 43,
   "id": "c62a9730",
   "metadata": {},
   "outputs": [],
   "source": [
    "from sklearn.feature_extraction.text import CountVectorizer"
   ]
  },
  {
   "cell_type": "code",
   "execution_count": 44,
   "id": "9f9a7276",
   "metadata": {},
   "outputs": [],
   "source": [
    "#한글이기 때문에 lowercase는 false로 지정\n",
    "cvec = CountVectorizer(tokenizer = lambda x : x, lowercase=False)"
   ]
  },
  {
   "cell_type": "code",
   "execution_count": 45,
   "id": "9e9ae739",
   "metadata": {},
   "outputs": [],
   "source": [
    "#train은 항상 fit_transform으로 \n",
    "train_vector = cvec.fit_transform(x_train)"
   ]
  },
  {
   "cell_type": "code",
   "execution_count": 46,
   "id": "f368c717",
   "metadata": {},
   "outputs": [],
   "source": [
    "#test는 train 기준으로 transform\n",
    "test_vector = cvec.transform(x_test)"
   ]
  },
  {
   "cell_type": "code",
   "execution_count": 47,
   "id": "cf9229d9",
   "metadata": {},
   "outputs": [
    {
     "data": {
      "text/plain": [
       "<112496x42632 sparse matrix of type '<class 'numpy.int64'>'\n",
       "\twith 1260623 stored elements in Compressed Sparse Row format>"
      ]
     },
     "execution_count": 47,
     "metadata": {},
     "output_type": "execute_result"
    }
   ],
   "source": [
    "train_vector"
   ]
  },
  {
   "cell_type": "code",
   "execution_count": 48,
   "id": "dccd19e3",
   "metadata": {},
   "outputs": [
    {
     "data": {
      "text/plain": [
       "<37499x42632 sparse matrix of type '<class 'numpy.int64'>'\n",
       "\twith 411596 stored elements in Compressed Sparse Row format>"
      ]
     },
     "execution_count": 48,
     "metadata": {},
     "output_type": "execute_result"
    }
   ],
   "source": [
    "test_vector"
   ]
  },
  {
   "cell_type": "markdown",
   "id": "84b5d97e",
   "metadata": {},
   "source": [
    "# 간단한 classification"
   ]
  },
  {
   "cell_type": "code",
   "execution_count": 62,
   "id": "79417cdf",
   "metadata": {},
   "outputs": [],
   "source": [
    "from sklearn.ensemble import RandomForestClassifier\n",
    "from sklearn.neural_network import MLPClassifier"
   ]
  },
  {
   "cell_type": "markdown",
   "id": "d4592681",
   "metadata": {},
   "source": [
    "## Random Forest 활용"
   ]
  },
  {
   "cell_type": "code",
   "execution_count": 50,
   "id": "cafea17b",
   "metadata": {},
   "outputs": [],
   "source": [
    "rf = RandomForestClassifier(n_estimators = 30, n_jobs=10, verbose=2) # 30개 tree, 10개 core 사용, 학습 progress 보이기"
   ]
  },
  {
   "cell_type": "code",
   "execution_count": 51,
   "id": "2cd02d63",
   "metadata": {
    "scrolled": true
   },
   "outputs": [
    {
     "name": "stderr",
     "output_type": "stream",
     "text": [
      "[Parallel(n_jobs=10)]: Using backend ThreadingBackend with 10 concurrent workers.\n"
     ]
    },
    {
     "name": "stdout",
     "output_type": "stream",
     "text": [
      "building tree 1 of 30building tree 2 of 30\n",
      "\n",
      "building tree 3 of 30\n",
      "building tree 4 of 30\n",
      "building tree 5 of 30\n",
      "building tree 6 of 30building tree 7 of 30building tree 8 of 30\n",
      "\n",
      "building tree 9 of 30\n",
      "building tree 10 of 30\n",
      "\n",
      "building tree 11 of 30\n",
      "building tree 12 of 30\n",
      "building tree 13 of 30\n",
      "building tree 14 of 30\n",
      "building tree 15 of 30\n",
      "building tree 16 of 30\n",
      "building tree 17 of 30\n",
      "building tree 18 of 30\n",
      "building tree 19 of 30\n",
      "building tree 20 of 30\n",
      "building tree 21 of 30\n",
      "building tree 22 of 30\n",
      "building tree 23 of 30\n",
      "building tree 24 of 30\n",
      "building tree 25 of 30\n",
      "building tree 26 of 30\n",
      "building tree 27 of 30\n",
      "building tree 28 of 30\n",
      "building tree 29 of 30\n",
      "building tree 30 of 30\n"
     ]
    },
    {
     "name": "stderr",
     "output_type": "stream",
     "text": [
      "[Parallel(n_jobs=10)]: Done  27 out of  30 | elapsed:   10.7s remaining:    1.2s\n",
      "[Parallel(n_jobs=10)]: Done  30 out of  30 | elapsed:   11.3s finished\n"
     ]
    },
    {
     "data": {
      "text/plain": [
       "RandomForestClassifier(n_estimators=30, n_jobs=10, verbose=2)"
      ]
     },
     "execution_count": 51,
     "metadata": {},
     "output_type": "execute_result"
    }
   ],
   "source": [
    "rf.fit(train_vector, y_train)"
   ]
  },
  {
   "cell_type": "code",
   "execution_count": 52,
   "id": "e40d91aa",
   "metadata": {
    "scrolled": true
   },
   "outputs": [
    {
     "name": "stderr",
     "output_type": "stream",
     "text": [
      "[Parallel(n_jobs=10)]: Using backend ThreadingBackend with 10 concurrent workers.\n",
      "[Parallel(n_jobs=10)]: Done  27 out of  30 | elapsed:    0.1s remaining:    0.0s\n",
      "[Parallel(n_jobs=10)]: Done  30 out of  30 | elapsed:    0.1s finished\n"
     ]
    }
   ],
   "source": [
    "y_pred_rf = rf.predict(test_vector) # 예측하기"
   ]
  },
  {
   "cell_type": "markdown",
   "id": "1fbe82e6",
   "metadata": {},
   "source": [
    "## metric으로 계산\n",
    "### balanced == accuracy_score\n",
    "### imbalanced == f1_Score"
   ]
  },
  {
   "cell_type": "code",
   "execution_count": 72,
   "id": "239b031f",
   "metadata": {},
   "outputs": [],
   "source": [
    "from sklearn.metrics import accuracy_score, f1_score"
   ]
  },
  {
   "cell_type": "code",
   "execution_count": 73,
   "id": "02706d56",
   "metadata": {
    "scrolled": true
   },
   "outputs": [
    {
     "data": {
      "text/plain": [
       "(0.8212752340062401, 0.8174737186121249)"
      ]
     },
     "execution_count": 73,
     "metadata": {},
     "output_type": "execute_result"
    }
   ],
   "source": [
    "accuracy_score(y_test, y_pred_rf), f1_score(y_test ,y_pred_rf)"
   ]
  },
  {
   "cell_type": "code",
   "execution_count": null,
   "id": "27cbdc80",
   "metadata": {},
   "outputs": [],
   "source": []
  },
  {
   "cell_type": "code",
   "execution_count": null,
   "id": "2038a8aa",
   "metadata": {},
   "outputs": [],
   "source": []
  }
 ],
 "metadata": {
  "kernelspec": {
   "display_name": "Python 3",
   "language": "python",
   "name": "python3"
  },
  "language_info": {
   "codemirror_mode": {
    "name": "ipython",
    "version": 3
   },
   "file_extension": ".py",
   "mimetype": "text/x-python",
   "name": "python",
   "nbconvert_exporter": "python",
   "pygments_lexer": "ipython3",
   "version": "3.8.10"
  }
 },
 "nbformat": 4,
 "nbformat_minor": 5
}
